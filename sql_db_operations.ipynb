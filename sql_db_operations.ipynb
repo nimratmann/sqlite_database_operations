{
  "nbformat": 4,
  "nbformat_minor": 0,
  "metadata": {
    "colab": {
      "provenance": [],
      "authorship_tag": "ABX9TyN3lNpJB+sXy8YDNf0bAHX0",
      "include_colab_link": true
    },
    "kernelspec": {
      "name": "python3",
      "display_name": "Python 3"
    },
    "language_info": {
      "name": "python"
    }
  },
  "cells": [
    {
      "cell_type": "markdown",
      "metadata": {
        "id": "view-in-github",
        "colab_type": "text"
      },
      "source": [
        "<a href=\"https://colab.research.google.com/github/nimratmann/sqlite_database_operations/blob/main/sql_db_operations.ipynb\" target=\"_parent\"><img src=\"https://colab.research.google.com/assets/colab-badge.svg\" alt=\"Open In Colab\"/></a>"
      ]
    },
    {
      "cell_type": "markdown",
      "source": [
        "# Loading Packages"
      ],
      "metadata": {
        "id": "HcuTG0qOiSlm"
      }
    },
    {
      "cell_type": "code",
      "execution_count": 1,
      "metadata": {
        "id": "m3G76PqeA080"
      },
      "outputs": [],
      "source": [
        "import pandas as pd\n",
        "import matplotlib.pyplot as plt\n",
        "import seaborn as sns\n",
        "import numpy as np\n",
        "from sqlalchemy import create_engine\n",
        "import sqlite3\n",
        "import re"
      ]
    },
    {
      "cell_type": "markdown",
      "source": [
        "# Hospital 1: Stony Brook Hospital"
      ],
      "metadata": {
        "id": "tptj2XxFiVx_"
      }
    },
    {
      "cell_type": "code",
      "source": [
        "sb = pd.read_csv('https://raw.githubusercontent.com/nimratmann/sqlite_database_operations/main/Dataset/113243405_StonyBrookUniversityHospital_standardcharges.csv')\n",
        "sb"
      ],
      "metadata": {
        "id": "-C5w6aABFQZb"
      },
      "execution_count": null,
      "outputs": []
    },
    {
      "cell_type": "markdown",
      "source": [
        "## Data Exploration and Analysis"
      ],
      "metadata": {
        "id": "BA-rExb8insK"
      }
    },
    {
      "cell_type": "code",
      "source": [
        "print(\"Stony Brook Hospital Standard Charges Overview: \")\n",
        "print(sb.head())"
      ],
      "metadata": {
        "id": "jkMX_sjdhYYu"
      },
      "execution_count": null,
      "outputs": []
    },
    {
      "cell_type": "code",
      "source": [
        "print(\"Summary Statistics for Stony Brook Hospital Standard Charges: \")\n",
        "print(sb.describe())"
      ],
      "metadata": {
        "id": "qupkAkcHi5rk"
      },
      "execution_count": null,
      "outputs": []
    },
    {
      "cell_type": "markdown",
      "source": [
        "## Cleaning Data and Handling the Missing Values"
      ],
      "metadata": {
        "id": "JGYKE3I7jM-g"
      }
    },
    {
      "cell_type": "code",
      "source": [
        "def clean_column_names(sb):\n",
        "    # Create a dictionary to map old column names to cleaned names\n",
        "    def clean_name(name):\n",
        "        cleaned_name = re.sub(r'[^a-zA-Z0-9]', '', name)\n",
        "        return cleaned_name.lower()\n",
        "    column_mapping = {col: clean_name(col) for col in sb.columns}\n",
        "\n",
        "    # Use the rename method to rename columns\n",
        "    sb = sb.rename(columns=column_mapping)\n",
        "\n",
        "    return sb\n",
        "\n",
        "# Apply the clean_column_names function to the DataFrame\n",
        "sb = clean_column_names(sb)\n",
        "sb"
      ],
      "metadata": {
        "id": "oQuV3pGRmdoJ"
      },
      "execution_count": null,
      "outputs": []
    },
    {
      "cell_type": "code",
      "source": [
        "print(\"Missing Values in Stony Brook Hospital Charges Dataset: \")\n",
        "print(sb.isnull().sum())"
      ],
      "metadata": {
        "id": "uNU-yJYdm5nX"
      },
      "execution_count": null,
      "outputs": []
    },
    {
      "cell_type": "markdown",
      "source": [
        "## Basic Statistics"
      ],
      "metadata": {
        "id": "y5UMpRwunL1R"
      }
    },
    {
      "cell_type": "code",
      "source": [
        "print(\"Frequency Counts for the 'description column' in Stony Brook Hospital Charges dataset: \")\n",
        "print(sb['description'].value_counts())"
      ],
      "metadata": {
        "id": "kyZIft70nBDm"
      },
      "execution_count": null,
      "outputs": []
    },
    {
      "cell_type": "code",
      "source": [
        "# Descriptive Statitics for the Numerical Columns\n",
        "numerical_columns = [\n",
        "     \"discountedcashprice\",\n",
        "    \"grosscharge\",\n",
        "    \"deidentifiedmincontractedrate\",\n",
        "    \"deidentifiedmaxcontractedrate\",\n",
        "    \"derivedcontractedrate\",\n",
        "    \"1199commercialother\",\n",
        "    \"aetnamedicareadvantagehmo\",\n",
        "    \"aetnacommercialhmopos\",\n",
        "    \"aetnacommercialppoopenaccess\",\n",
        "    \"aetnacommercialother\",\n",
        "    \"empirehealthcommercialother\",\n",
        "    \"empirehealthcommercialppoopenaccess\",\n",
        "    \"bluecrossblueshieldcommercialother\",\n",
        "    \"beaconhealthcommercialother\",\n",
        "    \"carelonhealthcommercialother\",\n",
        "    \"cignacommercialppoopenaccess\",\n",
        "    \"cignacommercialother\",\n",
        "    \"cignacommercialhmopos\",\n",
        "    \"ehfacetcommercialother\",\n",
        "    \"emblemhealthcommercialppoopenaccess\",\n",
        "    \"emblemhealthcommercialother\",\n",
        "    \"emblemhealthcommercialhmopos\",\n",
        "    \"emblemhealthmedicaidhmo\",\n",
        "    \"emblemhealthmedicareadvantagehmo\",\n",
        "    \"empirehealthcommercialhmopos\",\n",
        "     \"empirehealthmedicareadvantagehmo\",\n",
        "    \"empirehealthmedicaidhmo\",\n",
        "    \"evernorthcommercialother\",\n",
        "    \"fideliscommercialother\",\n",
        "    \"fidelismedicareadvantagehmo\",\n",
        "    \"fidelismedicaidhmo\",\n",
        "    \"ghicommercialother\",\n",
        "    \"healthfirstcommercialother\",\n",
        "    \"healthfirstmedicareadvantagehmo\",\n",
        "    \"healthfirstmedicaidhmo\",\n",
        "    \"healthplushpmedicaidhmo\",\n",
        "    \"healthplushpcommercialother\",\n",
        "    \"healthplushpmedicareadvantagehmo\",\n",
        "    \"humanacommercialother\",\n",
        "    \"humanacommercialhmopos\",\n",
        "    \"humanacommercialppoopenaccess\",\n",
        "    \"meritainhealthcommercialother\",\n",
        "    \"molinacommercialother\",\n",
        "    \"optumcommercialother\",\n",
        "    \"oxfordcommercialother\",\n",
        "    \"oxfordcommercialhmopos\",\n",
        "    \"tricarecommercialother\",\n",
        "    \"unitedhealthcarecommercialother\",\n",
        "    \"unitedhealthcaremedicareadvantagehmo\",\n",
        "    \"unitedhealthcarecommercialhmopos\",\n",
        "    \"unitedhealthcaremedicaidhmo\",\n",
        "    \"unitedhealthcarecommercialppoopenaccess\",\n",
        "    \"veteranfamilycommercialother\",\n",
        "]\n",
        "\n",
        "analysis_results = {}\n",
        "for column in numerical_columns:\n",
        "    mean = sb[column].mean()\n",
        "    median = sb[column].median()\n",
        "    mode = sb[column].mode()\n",
        "    std_dev = sb[column].std()\n",
        "    min_value = sb[column].min()\n",
        "    max_value = sb[column].max()\n",
        "\n",
        "    # Calculate frequency counts distribution\n",
        "    frequency_distribution = sb[column].value_counts().reset_index()\n",
        "    frequency_distribution.columns = [column, \"Frequency\"]\n",
        "\n",
        "    analysis_results[column] = {\n",
        "        \"Mean\": mean,\n",
        "        \"Median\": median,\n",
        "        \"Mode\": mode,\n",
        "        \"Standard Deviation\": std_dev,\n",
        "        \"Min Value\": min_value,\n",
        "        \"Max Value\": max_value,\n",
        "        \"Frequency Distribution\": frequency_distribution\n",
        "    }\n",
        "\n",
        "# Display the analysis results\n",
        "for column, results in analysis_results.items():\n",
        "    print(f\"Analysis for column: {column}\")\n",
        "    print(results)\n",
        "    print(\"\\n\")\n",
        ""
      ],
      "metadata": {
        "id": "RgnuhPGanuui"
      },
      "execution_count": null,
      "outputs": []
    },
    {
      "cell_type": "code",
      "source": [
        "sb_mean = sb['discountedcashprice'].mean()\n",
        "sb_median = sb['discountedcashprice'].median()\n",
        "sb_mode = sb['discountedcashprice'].mode().values[0]\n",
        "\n",
        "\n",
        "sb_range = sb['discountedcashprice'].max() - sb['discountedcashprice'].min()\n",
        "sb_var = sb['discountedcashprice'].var()\n",
        "sb_std= sb['discountedcashprice'].std()\n",
        "sb_iqr = sb['discountedcashprice'].quantile(0.75) - sb['discountedcashprice'].quantile(0.25)\n",
        "\n",
        "\n",
        "print(\"Measures of Central Tendency:\")\n",
        "print(f\"Mean: {sb_mean}\")\n",
        "print(f\"Median: {sb_median}\")\n",
        "print(f\"Mode: {sb_mode}\")\n",
        "print(\"\\nMeasures of Spread:\")\n",
        "print(f\"Range: {sb_range}\")\n",
        "print(f\"Variance: {sb_var}\")\n",
        "print(f\"Standard Deviation: {sb_std}\")\n",
        "print(f\"IQR (Interquartile Range): {sb_iqr}\")\n",
        ""
      ],
      "metadata": {
        "id": "nCDwK8d6oRFZ"
      },
      "execution_count": null,
      "outputs": []
    },
    {
      "cell_type": "code",
      "source": [
        "print (sb['description'].value_counts())\n",
        "print (sb['type'].value_counts())\n",
        "print (sb['code'].value_counts())\n",
        "print (sb['packagelinelevel'].value_counts())"
      ],
      "metadata": {
        "id": "xygWBH_mqYlc"
      },
      "execution_count": null,
      "outputs": []
    },
    {
      "cell_type": "markdown",
      "source": [
        "## Data Distribution"
      ],
      "metadata": {
        "id": "21Cc46lQq-l8"
      }
    },
    {
      "cell_type": "code",
      "source": [
        "plt.figure(figsize=(9,9))\n",
        "plt.hist(sb['discountedcashprice'], bins=15, color='pink', edgecolor='black')\n",
        "plt.title('The Frequency of Stony Brook Hospital Services Discounted Cash Price')\n",
        "plt.xlabel('Discounted Cash Price')\n",
        "plt.ylabel('Frequency')\n",
        "plt.grid(True)\n",
        "plt.show()"
      ],
      "metadata": {
        "id": "LC-Gdhnhqzfb"
      },
      "execution_count": null,
      "outputs": []
    },
    {
      "cell_type": "code",
      "source": [
        "plt.figure(figsize=(9,9))\n",
        "plt.hist(sb['grosscharge'], bins=15, color='green', edgecolor='black')\n",
        "plt.title('The Frequency of Stony Brook Hospital Services Gross Charge')\n",
        "plt.xlabel('Gross Charge')\n",
        "plt.ylabel('Frequency')\n",
        "plt.grid(True)\n",
        "plt.show()"
      ],
      "metadata": {
        "id": "NhCxf7MsrerD"
      },
      "execution_count": null,
      "outputs": []
    },
    {
      "cell_type": "markdown",
      "source": [
        "# Hospital 2: NewYork-Presbyterian\n",
        "\n"
      ],
      "metadata": {
        "id": "H1gJwF4LQ3eD"
      }
    },
    {
      "cell_type": "code",
      "source": [
        "nyp = pd.read_json('NewYorkPresbyterianHospital_standardcharges.zip')\n",
        "nyp"
      ],
      "metadata": {
        "id": "zv-gRYkhr_Xr"
      },
      "execution_count": null,
      "outputs": []
    },
    {
      "cell_type": "markdown",
      "source": [
        "## Data Exploration and Analysis"
      ],
      "metadata": {
        "id": "7kMmy_OqRFRR"
      }
    },
    {
      "cell_type": "code",
      "source": [
        "print(\"NewYork-Presbyterian Hospital Standard Charges Overview: \")\n",
        "print(nyp.head())"
      ],
      "metadata": {
        "id": "viaIWv6rRHEv"
      },
      "execution_count": null,
      "outputs": []
    },
    {
      "cell_type": "code",
      "source": [
        "print(\"Summary Statistics for NewYork-Presbyterian Hospital Standard Charges: \")\n",
        "print(nyp.describe())"
      ],
      "metadata": {
        "id": "9fWtQP7URQvi"
      },
      "execution_count": null,
      "outputs": []
    },
    {
      "cell_type": "markdown",
      "source": [
        "## Cleaning Data and Handling the Missing Values"
      ],
      "metadata": {
        "id": "NzR5aQU9Ri6N"
      }
    },
    {
      "cell_type": "code",
      "source": [
        "def clean_column_names(nyp):\n",
        "    # Create a dictionary to map old column names to cleaned names\n",
        "    def clean_name(name):\n",
        "        cleaned_name = re.sub(r'[^a-zA-Z0-9]', '', name)\n",
        "        return cleaned_name.lower()\n",
        "    column_mapping = {col: clean_name(col) for col in nyp.columns}\n",
        "\n",
        "    # Use the rename method to rename columns\n",
        "    nyp = nyp.rename(columns=column_mapping)\n",
        "\n",
        "    return nyp\n",
        "\n",
        "# Apply the clean_column_names function to the DataFrame\n",
        "nyp = clean_column_names(nyp)\n",
        "nyp"
      ],
      "metadata": {
        "colab": {
          "base_uri": "https://localhost:8080/",
          "height": 981
        },
        "id": "XMdW5motRken",
        "outputId": "53ab2b90-ee49-447f-a148-00d8eb3cb6f9"
      },
      "execution_count": 65,
      "outputs": [
        {
          "output_type": "execute_result",
          "data": {
            "text/plain": [
              "     codecptdrg                                        description   revcode  \\\n",
              "0         96360        HC IV INFUSION HYDRATION INITIAL 31 MIN-1HR      0260   \n",
              "1         96361            HC IV INFUSION HYDRATION FLUIDS ADDL HR      0260   \n",
              "2         96365  HC IV INFUSION FOR THER/PROPH/DIAG INITIAL UP ...      0260   \n",
              "3         96367  HC IV INF THER/PROPH/DIAG ADDL SEQ NEW DRUG UP...      0260   \n",
              "4         96368      HC IV INFUSION FOR THER/PROPH/DIAG CONCURRENT      0260   \n",
              "...         ...                                                ...       ...   \n",
              "6188        982  EXTENSIVE O.R. PROCEDURES UNRELATED TO PRINCIP...  Multiple   \n",
              "6189        983  EXTENSIVE O.R. PROCEDURES UNRELATED TO PRINCIP...  Multiple   \n",
              "6190        987  NON-EXTENSIVE O.R. PROCEDURES UNRELATED TO PRI...  Multiple   \n",
              "6191        988  NON-EXTENSIVE O.R. PROCEDURES UNRELATED TO PRI...  Multiple   \n",
              "6192        989  NON-EXTENSIVE O.R. PROCEDURES UNRELATED TO PRI...  Multiple   \n",
              "\n",
              "       inpatientoutpatient   grosscharges  discountedcashprice        aetna  \\\n",
              "0     Inpatient/Outpatient     866.000000           866.000000      641.706   \n",
              "1     Inpatient/Outpatient     358.000000           358.000000      265.278   \n",
              "2     Inpatient/Outpatient    1397.000000          1397.000000     1035.177   \n",
              "3     Inpatient/Outpatient     480.000000           480.000000       355.68   \n",
              "4     Inpatient/Outpatient     480.000000           480.000000       355.68   \n",
              "...                    ...            ...                  ...          ...   \n",
              "6188             Inpatient  184095.129020        184095.129020   86723.5232   \n",
              "6189             Inpatient   85385.941857         85385.941857   57748.8352   \n",
              "6190             Inpatient  411665.999955        411665.999955  114736.9984   \n",
              "6191             Inpatient  126522.871140        126522.871140   58654.7264   \n",
              "6192             Inpatient   77081.639496         77081.639496   38116.5824   \n",
              "\n",
              "              cigna empirebluecrossblueshield  emblemhealth  ...  \\\n",
              "0           494.486                    640.84      1388.424  ...   \n",
              "1           204.418                    264.92      1305.112  ...   \n",
              "2           797.687                   1033.78      1475.508  ...   \n",
              "3            274.08                     355.2       1325.12  ...   \n",
              "4            274.08                     355.2       1325.12  ...   \n",
              "...             ...                       ...           ...  ...   \n",
              "6188   98911.694706                  82299.84  115129.89148  ...   \n",
              "6189   65864.888166              63931.455093   76664.51828  ...   \n",
              "6190  130862.199072             214294.876425  152319.20576  ...   \n",
              "6191   66898.093812                91907.6928   77867.13496  ...   \n",
              "6192   43473.507792               44463.77208   50601.70336  ...   \n",
              "\n",
              "     consumerhealthnetwork         devon        equian   firsthealth  \\\n",
              "0                 393.5104      393.5104      393.5104      393.5104   \n",
              "1                 162.6752      162.6752      162.6752      162.6752   \n",
              "2                 634.7968      634.7968      634.7968      634.7968   \n",
              "3                  218.112       218.112       218.112       218.112   \n",
              "4                  218.112       218.112       218.112       218.112   \n",
              "...                    ...           ...           ...           ...   \n",
              "6188          83652.826627  83652.826627  83652.826627  83652.826627   \n",
              "6189           38799.37198   38799.37198   38799.37198   38799.37198   \n",
              "6190          187061.03038  187061.03038  187061.03038  187061.03038   \n",
              "6191          57491.992646  57491.992646  57491.992646  57491.992646   \n",
              "6192          35025.896987  35025.896987  35025.896987  35025.896987   \n",
              "\n",
              "         magnacare multiplanbeechstreetphcs           qhm     worldwide  \\\n",
              "0         393.5104                 393.5104      393.5104      393.5104   \n",
              "1         162.6752                 162.6752      162.6752      162.6752   \n",
              "2         634.7968                 634.7968      634.7968      634.7968   \n",
              "3          218.112                  218.112       218.112       218.112   \n",
              "4          218.112                  218.112       218.112       218.112   \n",
              "...            ...                      ...           ...           ...   \n",
              "6188  83652.826627             83652.826627  83652.826627  83652.826627   \n",
              "6189   38799.37198              38799.37198   38799.37198   38799.37198   \n",
              "6190  187061.03038             187061.03038  187061.03038  187061.03038   \n",
              "6191  57491.992646             57491.992646  57491.992646  57491.992646   \n",
              "6192  35025.896987             35025.896987  35025.896987  35025.896987   \n",
              "\n",
              "     minimumnegotiatedcharge maximumnegotiatedcharge  \n",
              "0                 253.048250             1388.424000  \n",
              "1                  51.903250             1990.891341  \n",
              "2                 253.048250             1475.508000  \n",
              "3                  82.650750             1325.120000  \n",
              "4                 156.982800             1325.120000  \n",
              "...                      ...                     ...  \n",
              "6188            12561.144027           115129.891480  \n",
              "6189             7833.746854            76664.518280  \n",
              "6190            21016.798830           214294.876425  \n",
              "6191            10429.428059            91907.692800  \n",
              "6192             5995.071552            50601.703360  \n",
              "\n",
              "[6193 rows x 47 columns]"
            ],
            "text/html": [
              "\n",
              "  <div id=\"df-9142507d-aae3-483f-9644-365a013713b2\" class=\"colab-df-container\">\n",
              "    <div>\n",
              "<style scoped>\n",
              "    .dataframe tbody tr th:only-of-type {\n",
              "        vertical-align: middle;\n",
              "    }\n",
              "\n",
              "    .dataframe tbody tr th {\n",
              "        vertical-align: top;\n",
              "    }\n",
              "\n",
              "    .dataframe thead th {\n",
              "        text-align: right;\n",
              "    }\n",
              "</style>\n",
              "<table border=\"1\" class=\"dataframe\">\n",
              "  <thead>\n",
              "    <tr style=\"text-align: right;\">\n",
              "      <th></th>\n",
              "      <th>codecptdrg</th>\n",
              "      <th>description</th>\n",
              "      <th>revcode</th>\n",
              "      <th>inpatientoutpatient</th>\n",
              "      <th>grosscharges</th>\n",
              "      <th>discountedcashprice</th>\n",
              "      <th>aetna</th>\n",
              "      <th>cigna</th>\n",
              "      <th>empirebluecrossblueshield</th>\n",
              "      <th>emblemhealth</th>\n",
              "      <th>...</th>\n",
              "      <th>consumerhealthnetwork</th>\n",
              "      <th>devon</th>\n",
              "      <th>equian</th>\n",
              "      <th>firsthealth</th>\n",
              "      <th>magnacare</th>\n",
              "      <th>multiplanbeechstreetphcs</th>\n",
              "      <th>qhm</th>\n",
              "      <th>worldwide</th>\n",
              "      <th>minimumnegotiatedcharge</th>\n",
              "      <th>maximumnegotiatedcharge</th>\n",
              "    </tr>\n",
              "  </thead>\n",
              "  <tbody>\n",
              "    <tr>\n",
              "      <th>0</th>\n",
              "      <td>96360</td>\n",
              "      <td>HC IV INFUSION HYDRATION INITIAL 31 MIN-1HR</td>\n",
              "      <td>0260</td>\n",
              "      <td>Inpatient/Outpatient</td>\n",
              "      <td>866.000000</td>\n",
              "      <td>866.000000</td>\n",
              "      <td>641.706</td>\n",
              "      <td>494.486</td>\n",
              "      <td>640.84</td>\n",
              "      <td>1388.424</td>\n",
              "      <td>...</td>\n",
              "      <td>393.5104</td>\n",
              "      <td>393.5104</td>\n",
              "      <td>393.5104</td>\n",
              "      <td>393.5104</td>\n",
              "      <td>393.5104</td>\n",
              "      <td>393.5104</td>\n",
              "      <td>393.5104</td>\n",
              "      <td>393.5104</td>\n",
              "      <td>253.048250</td>\n",
              "      <td>1388.424000</td>\n",
              "    </tr>\n",
              "    <tr>\n",
              "      <th>1</th>\n",
              "      <td>96361</td>\n",
              "      <td>HC IV INFUSION HYDRATION FLUIDS ADDL HR</td>\n",
              "      <td>0260</td>\n",
              "      <td>Inpatient/Outpatient</td>\n",
              "      <td>358.000000</td>\n",
              "      <td>358.000000</td>\n",
              "      <td>265.278</td>\n",
              "      <td>204.418</td>\n",
              "      <td>264.92</td>\n",
              "      <td>1305.112</td>\n",
              "      <td>...</td>\n",
              "      <td>162.6752</td>\n",
              "      <td>162.6752</td>\n",
              "      <td>162.6752</td>\n",
              "      <td>162.6752</td>\n",
              "      <td>162.6752</td>\n",
              "      <td>162.6752</td>\n",
              "      <td>162.6752</td>\n",
              "      <td>162.6752</td>\n",
              "      <td>51.903250</td>\n",
              "      <td>1990.891341</td>\n",
              "    </tr>\n",
              "    <tr>\n",
              "      <th>2</th>\n",
              "      <td>96365</td>\n",
              "      <td>HC IV INFUSION FOR THER/PROPH/DIAG INITIAL UP ...</td>\n",
              "      <td>0260</td>\n",
              "      <td>Inpatient/Outpatient</td>\n",
              "      <td>1397.000000</td>\n",
              "      <td>1397.000000</td>\n",
              "      <td>1035.177</td>\n",
              "      <td>797.687</td>\n",
              "      <td>1033.78</td>\n",
              "      <td>1475.508</td>\n",
              "      <td>...</td>\n",
              "      <td>634.7968</td>\n",
              "      <td>634.7968</td>\n",
              "      <td>634.7968</td>\n",
              "      <td>634.7968</td>\n",
              "      <td>634.7968</td>\n",
              "      <td>634.7968</td>\n",
              "      <td>634.7968</td>\n",
              "      <td>634.7968</td>\n",
              "      <td>253.048250</td>\n",
              "      <td>1475.508000</td>\n",
              "    </tr>\n",
              "    <tr>\n",
              "      <th>3</th>\n",
              "      <td>96367</td>\n",
              "      <td>HC IV INF THER/PROPH/DIAG ADDL SEQ NEW DRUG UP...</td>\n",
              "      <td>0260</td>\n",
              "      <td>Inpatient/Outpatient</td>\n",
              "      <td>480.000000</td>\n",
              "      <td>480.000000</td>\n",
              "      <td>355.68</td>\n",
              "      <td>274.08</td>\n",
              "      <td>355.2</td>\n",
              "      <td>1325.12</td>\n",
              "      <td>...</td>\n",
              "      <td>218.112</td>\n",
              "      <td>218.112</td>\n",
              "      <td>218.112</td>\n",
              "      <td>218.112</td>\n",
              "      <td>218.112</td>\n",
              "      <td>218.112</td>\n",
              "      <td>218.112</td>\n",
              "      <td>218.112</td>\n",
              "      <td>82.650750</td>\n",
              "      <td>1325.120000</td>\n",
              "    </tr>\n",
              "    <tr>\n",
              "      <th>4</th>\n",
              "      <td>96368</td>\n",
              "      <td>HC IV INFUSION FOR THER/PROPH/DIAG CONCURRENT</td>\n",
              "      <td>0260</td>\n",
              "      <td>Inpatient/Outpatient</td>\n",
              "      <td>480.000000</td>\n",
              "      <td>480.000000</td>\n",
              "      <td>355.68</td>\n",
              "      <td>274.08</td>\n",
              "      <td>355.2</td>\n",
              "      <td>1325.12</td>\n",
              "      <td>...</td>\n",
              "      <td>218.112</td>\n",
              "      <td>218.112</td>\n",
              "      <td>218.112</td>\n",
              "      <td>218.112</td>\n",
              "      <td>218.112</td>\n",
              "      <td>218.112</td>\n",
              "      <td>218.112</td>\n",
              "      <td>218.112</td>\n",
              "      <td>156.982800</td>\n",
              "      <td>1325.120000</td>\n",
              "    </tr>\n",
              "    <tr>\n",
              "      <th>...</th>\n",
              "      <td>...</td>\n",
              "      <td>...</td>\n",
              "      <td>...</td>\n",
              "      <td>...</td>\n",
              "      <td>...</td>\n",
              "      <td>...</td>\n",
              "      <td>...</td>\n",
              "      <td>...</td>\n",
              "      <td>...</td>\n",
              "      <td>...</td>\n",
              "      <td>...</td>\n",
              "      <td>...</td>\n",
              "      <td>...</td>\n",
              "      <td>...</td>\n",
              "      <td>...</td>\n",
              "      <td>...</td>\n",
              "      <td>...</td>\n",
              "      <td>...</td>\n",
              "      <td>...</td>\n",
              "      <td>...</td>\n",
              "      <td>...</td>\n",
              "    </tr>\n",
              "    <tr>\n",
              "      <th>6188</th>\n",
              "      <td>982</td>\n",
              "      <td>EXTENSIVE O.R. PROCEDURES UNRELATED TO PRINCIP...</td>\n",
              "      <td>Multiple</td>\n",
              "      <td>Inpatient</td>\n",
              "      <td>184095.129020</td>\n",
              "      <td>184095.129020</td>\n",
              "      <td>86723.5232</td>\n",
              "      <td>98911.694706</td>\n",
              "      <td>82299.84</td>\n",
              "      <td>115129.89148</td>\n",
              "      <td>...</td>\n",
              "      <td>83652.826627</td>\n",
              "      <td>83652.826627</td>\n",
              "      <td>83652.826627</td>\n",
              "      <td>83652.826627</td>\n",
              "      <td>83652.826627</td>\n",
              "      <td>83652.826627</td>\n",
              "      <td>83652.826627</td>\n",
              "      <td>83652.826627</td>\n",
              "      <td>12561.144027</td>\n",
              "      <td>115129.891480</td>\n",
              "    </tr>\n",
              "    <tr>\n",
              "      <th>6189</th>\n",
              "      <td>983</td>\n",
              "      <td>EXTENSIVE O.R. PROCEDURES UNRELATED TO PRINCIP...</td>\n",
              "      <td>Multiple</td>\n",
              "      <td>Inpatient</td>\n",
              "      <td>85385.941857</td>\n",
              "      <td>85385.941857</td>\n",
              "      <td>57748.8352</td>\n",
              "      <td>65864.888166</td>\n",
              "      <td>63931.455093</td>\n",
              "      <td>76664.51828</td>\n",
              "      <td>...</td>\n",
              "      <td>38799.37198</td>\n",
              "      <td>38799.37198</td>\n",
              "      <td>38799.37198</td>\n",
              "      <td>38799.37198</td>\n",
              "      <td>38799.37198</td>\n",
              "      <td>38799.37198</td>\n",
              "      <td>38799.37198</td>\n",
              "      <td>38799.37198</td>\n",
              "      <td>7833.746854</td>\n",
              "      <td>76664.518280</td>\n",
              "    </tr>\n",
              "    <tr>\n",
              "      <th>6190</th>\n",
              "      <td>987</td>\n",
              "      <td>NON-EXTENSIVE O.R. PROCEDURES UNRELATED TO PRI...</td>\n",
              "      <td>Multiple</td>\n",
              "      <td>Inpatient</td>\n",
              "      <td>411665.999955</td>\n",
              "      <td>411665.999955</td>\n",
              "      <td>114736.9984</td>\n",
              "      <td>130862.199072</td>\n",
              "      <td>214294.876425</td>\n",
              "      <td>152319.20576</td>\n",
              "      <td>...</td>\n",
              "      <td>187061.03038</td>\n",
              "      <td>187061.03038</td>\n",
              "      <td>187061.03038</td>\n",
              "      <td>187061.03038</td>\n",
              "      <td>187061.03038</td>\n",
              "      <td>187061.03038</td>\n",
              "      <td>187061.03038</td>\n",
              "      <td>187061.03038</td>\n",
              "      <td>21016.798830</td>\n",
              "      <td>214294.876425</td>\n",
              "    </tr>\n",
              "    <tr>\n",
              "      <th>6191</th>\n",
              "      <td>988</td>\n",
              "      <td>NON-EXTENSIVE O.R. PROCEDURES UNRELATED TO PRI...</td>\n",
              "      <td>Multiple</td>\n",
              "      <td>Inpatient</td>\n",
              "      <td>126522.871140</td>\n",
              "      <td>126522.871140</td>\n",
              "      <td>58654.7264</td>\n",
              "      <td>66898.093812</td>\n",
              "      <td>91907.6928</td>\n",
              "      <td>77867.13496</td>\n",
              "      <td>...</td>\n",
              "      <td>57491.992646</td>\n",
              "      <td>57491.992646</td>\n",
              "      <td>57491.992646</td>\n",
              "      <td>57491.992646</td>\n",
              "      <td>57491.992646</td>\n",
              "      <td>57491.992646</td>\n",
              "      <td>57491.992646</td>\n",
              "      <td>57491.992646</td>\n",
              "      <td>10429.428059</td>\n",
              "      <td>91907.692800</td>\n",
              "    </tr>\n",
              "    <tr>\n",
              "      <th>6192</th>\n",
              "      <td>989</td>\n",
              "      <td>NON-EXTENSIVE O.R. PROCEDURES UNRELATED TO PRI...</td>\n",
              "      <td>Multiple</td>\n",
              "      <td>Inpatient</td>\n",
              "      <td>77081.639496</td>\n",
              "      <td>77081.639496</td>\n",
              "      <td>38116.5824</td>\n",
              "      <td>43473.507792</td>\n",
              "      <td>44463.77208</td>\n",
              "      <td>50601.70336</td>\n",
              "      <td>...</td>\n",
              "      <td>35025.896987</td>\n",
              "      <td>35025.896987</td>\n",
              "      <td>35025.896987</td>\n",
              "      <td>35025.896987</td>\n",
              "      <td>35025.896987</td>\n",
              "      <td>35025.896987</td>\n",
              "      <td>35025.896987</td>\n",
              "      <td>35025.896987</td>\n",
              "      <td>5995.071552</td>\n",
              "      <td>50601.703360</td>\n",
              "    </tr>\n",
              "  </tbody>\n",
              "</table>\n",
              "<p>6193 rows × 47 columns</p>\n",
              "</div>\n",
              "    <div class=\"colab-df-buttons\">\n",
              "\n",
              "  <div class=\"colab-df-container\">\n",
              "    <button class=\"colab-df-convert\" onclick=\"convertToInteractive('df-9142507d-aae3-483f-9644-365a013713b2')\"\n",
              "            title=\"Convert this dataframe to an interactive table.\"\n",
              "            style=\"display:none;\">\n",
              "\n",
              "  <svg xmlns=\"http://www.w3.org/2000/svg\" height=\"24px\" viewBox=\"0 -960 960 960\">\n",
              "    <path d=\"M120-120v-720h720v720H120Zm60-500h600v-160H180v160Zm220 220h160v-160H400v160Zm0 220h160v-160H400v160ZM180-400h160v-160H180v160Zm440 0h160v-160H620v160ZM180-180h160v-160H180v160Zm440 0h160v-160H620v160Z\"/>\n",
              "  </svg>\n",
              "    </button>\n",
              "\n",
              "  <style>\n",
              "    .colab-df-container {\n",
              "      display:flex;\n",
              "      gap: 12px;\n",
              "    }\n",
              "\n",
              "    .colab-df-convert {\n",
              "      background-color: #E8F0FE;\n",
              "      border: none;\n",
              "      border-radius: 50%;\n",
              "      cursor: pointer;\n",
              "      display: none;\n",
              "      fill: #1967D2;\n",
              "      height: 32px;\n",
              "      padding: 0 0 0 0;\n",
              "      width: 32px;\n",
              "    }\n",
              "\n",
              "    .colab-df-convert:hover {\n",
              "      background-color: #E2EBFA;\n",
              "      box-shadow: 0px 1px 2px rgba(60, 64, 67, 0.3), 0px 1px 3px 1px rgba(60, 64, 67, 0.15);\n",
              "      fill: #174EA6;\n",
              "    }\n",
              "\n",
              "    .colab-df-buttons div {\n",
              "      margin-bottom: 4px;\n",
              "    }\n",
              "\n",
              "    [theme=dark] .colab-df-convert {\n",
              "      background-color: #3B4455;\n",
              "      fill: #D2E3FC;\n",
              "    }\n",
              "\n",
              "    [theme=dark] .colab-df-convert:hover {\n",
              "      background-color: #434B5C;\n",
              "      box-shadow: 0px 1px 3px 1px rgba(0, 0, 0, 0.15);\n",
              "      filter: drop-shadow(0px 1px 2px rgba(0, 0, 0, 0.3));\n",
              "      fill: #FFFFFF;\n",
              "    }\n",
              "  </style>\n",
              "\n",
              "    <script>\n",
              "      const buttonEl =\n",
              "        document.querySelector('#df-9142507d-aae3-483f-9644-365a013713b2 button.colab-df-convert');\n",
              "      buttonEl.style.display =\n",
              "        google.colab.kernel.accessAllowed ? 'block' : 'none';\n",
              "\n",
              "      async function convertToInteractive(key) {\n",
              "        const element = document.querySelector('#df-9142507d-aae3-483f-9644-365a013713b2');\n",
              "        const dataTable =\n",
              "          await google.colab.kernel.invokeFunction('convertToInteractive',\n",
              "                                                    [key], {});\n",
              "        if (!dataTable) return;\n",
              "\n",
              "        const docLinkHtml = 'Like what you see? Visit the ' +\n",
              "          '<a target=\"_blank\" href=https://colab.research.google.com/notebooks/data_table.ipynb>data table notebook</a>'\n",
              "          + ' to learn more about interactive tables.';\n",
              "        element.innerHTML = '';\n",
              "        dataTable['output_type'] = 'display_data';\n",
              "        await google.colab.output.renderOutput(dataTable, element);\n",
              "        const docLink = document.createElement('div');\n",
              "        docLink.innerHTML = docLinkHtml;\n",
              "        element.appendChild(docLink);\n",
              "      }\n",
              "    </script>\n",
              "  </div>\n",
              "\n",
              "\n",
              "<div id=\"df-93df01a0-ec48-48b0-93a1-278469a3c7dd\">\n",
              "  <button class=\"colab-df-quickchart\" onclick=\"quickchart('df-93df01a0-ec48-48b0-93a1-278469a3c7dd')\"\n",
              "            title=\"Suggest charts.\"\n",
              "            style=\"display:none;\">\n",
              "\n",
              "<svg xmlns=\"http://www.w3.org/2000/svg\" height=\"24px\"viewBox=\"0 0 24 24\"\n",
              "     width=\"24px\">\n",
              "    <g>\n",
              "        <path d=\"M19 3H5c-1.1 0-2 .9-2 2v14c0 1.1.9 2 2 2h14c1.1 0 2-.9 2-2V5c0-1.1-.9-2-2-2zM9 17H7v-7h2v7zm4 0h-2V7h2v10zm4 0h-2v-4h2v4z\"/>\n",
              "    </g>\n",
              "</svg>\n",
              "  </button>\n",
              "\n",
              "<style>\n",
              "  .colab-df-quickchart {\n",
              "      --bg-color: #E8F0FE;\n",
              "      --fill-color: #1967D2;\n",
              "      --hover-bg-color: #E2EBFA;\n",
              "      --hover-fill-color: #174EA6;\n",
              "      --disabled-fill-color: #AAA;\n",
              "      --disabled-bg-color: #DDD;\n",
              "  }\n",
              "\n",
              "  [theme=dark] .colab-df-quickchart {\n",
              "      --bg-color: #3B4455;\n",
              "      --fill-color: #D2E3FC;\n",
              "      --hover-bg-color: #434B5C;\n",
              "      --hover-fill-color: #FFFFFF;\n",
              "      --disabled-bg-color: #3B4455;\n",
              "      --disabled-fill-color: #666;\n",
              "  }\n",
              "\n",
              "  .colab-df-quickchart {\n",
              "    background-color: var(--bg-color);\n",
              "    border: none;\n",
              "    border-radius: 50%;\n",
              "    cursor: pointer;\n",
              "    display: none;\n",
              "    fill: var(--fill-color);\n",
              "    height: 32px;\n",
              "    padding: 0;\n",
              "    width: 32px;\n",
              "  }\n",
              "\n",
              "  .colab-df-quickchart:hover {\n",
              "    background-color: var(--hover-bg-color);\n",
              "    box-shadow: 0 1px 2px rgba(60, 64, 67, 0.3), 0 1px 3px 1px rgba(60, 64, 67, 0.15);\n",
              "    fill: var(--button-hover-fill-color);\n",
              "  }\n",
              "\n",
              "  .colab-df-quickchart-complete:disabled,\n",
              "  .colab-df-quickchart-complete:disabled:hover {\n",
              "    background-color: var(--disabled-bg-color);\n",
              "    fill: var(--disabled-fill-color);\n",
              "    box-shadow: none;\n",
              "  }\n",
              "\n",
              "  .colab-df-spinner {\n",
              "    border: 2px solid var(--fill-color);\n",
              "    border-color: transparent;\n",
              "    border-bottom-color: var(--fill-color);\n",
              "    animation:\n",
              "      spin 1s steps(1) infinite;\n",
              "  }\n",
              "\n",
              "  @keyframes spin {\n",
              "    0% {\n",
              "      border-color: transparent;\n",
              "      border-bottom-color: var(--fill-color);\n",
              "      border-left-color: var(--fill-color);\n",
              "    }\n",
              "    20% {\n",
              "      border-color: transparent;\n",
              "      border-left-color: var(--fill-color);\n",
              "      border-top-color: var(--fill-color);\n",
              "    }\n",
              "    30% {\n",
              "      border-color: transparent;\n",
              "      border-left-color: var(--fill-color);\n",
              "      border-top-color: var(--fill-color);\n",
              "      border-right-color: var(--fill-color);\n",
              "    }\n",
              "    40% {\n",
              "      border-color: transparent;\n",
              "      border-right-color: var(--fill-color);\n",
              "      border-top-color: var(--fill-color);\n",
              "    }\n",
              "    60% {\n",
              "      border-color: transparent;\n",
              "      border-right-color: var(--fill-color);\n",
              "    }\n",
              "    80% {\n",
              "      border-color: transparent;\n",
              "      border-right-color: var(--fill-color);\n",
              "      border-bottom-color: var(--fill-color);\n",
              "    }\n",
              "    90% {\n",
              "      border-color: transparent;\n",
              "      border-bottom-color: var(--fill-color);\n",
              "    }\n",
              "  }\n",
              "</style>\n",
              "\n",
              "  <script>\n",
              "    async function quickchart(key) {\n",
              "      const quickchartButtonEl =\n",
              "        document.querySelector('#' + key + ' button');\n",
              "      quickchartButtonEl.disabled = true;  // To prevent multiple clicks.\n",
              "      quickchartButtonEl.classList.add('colab-df-spinner');\n",
              "      try {\n",
              "        const charts = await google.colab.kernel.invokeFunction(\n",
              "            'suggestCharts', [key], {});\n",
              "      } catch (error) {\n",
              "        console.error('Error during call to suggestCharts:', error);\n",
              "      }\n",
              "      quickchartButtonEl.classList.remove('colab-df-spinner');\n",
              "      quickchartButtonEl.classList.add('colab-df-quickchart-complete');\n",
              "    }\n",
              "    (() => {\n",
              "      let quickchartButtonEl =\n",
              "        document.querySelector('#df-93df01a0-ec48-48b0-93a1-278469a3c7dd button');\n",
              "      quickchartButtonEl.style.display =\n",
              "        google.colab.kernel.accessAllowed ? 'block' : 'none';\n",
              "    })();\n",
              "  </script>\n",
              "</div>\n",
              "    </div>\n",
              "  </div>\n"
            ]
          },
          "metadata": {},
          "execution_count": 65
        }
      ]
    },
    {
      "cell_type": "code",
      "source": [
        "print(\"Missing Values in NewYork-Presbyterian Hospital Charges Dataset: \")\n",
        "print(nyp.isnull().sum())"
      ],
      "metadata": {
        "id": "rqkOrk-mRum5"
      },
      "execution_count": null,
      "outputs": []
    },
    {
      "cell_type": "markdown",
      "source": [
        "## Basic Statistics"
      ],
      "metadata": {
        "id": "qcv3DE9gR8TU"
      }
    },
    {
      "cell_type": "code",
      "source": [
        "print(\"Frequency Counts for the 'description column' in NewYork-Presbyterian Hospital Charges dataset: \")\n",
        "print(nyp['description'].value_counts())"
      ],
      "metadata": {
        "id": "z2vjazudR4OV"
      },
      "execution_count": null,
      "outputs": []
    },
    {
      "cell_type": "code",
      "source": [
        "print(nyp.columns)"
      ],
      "metadata": {
        "id": "G0Quy4LpSb7y"
      },
      "execution_count": null,
      "outputs": []
    },
    {
      "cell_type": "code",
      "source": [
        "# Descriptive Statitics for the Numerical Columns\n",
        "numerical_columns = [\n",
        "    'grosscharges',\n",
        "    'discountedcashprice',\n",
        "    'minimumnegotiatedcharge',\n",
        "    'maximumnegotiatedcharge',\n",
        "\n",
        "]\n",
        "\n",
        "analysis_results = {}\n",
        "for column in numerical_columns:\n",
        "    mean = nyp[column].mean()\n",
        "    median = nyp[column].median()\n",
        "    mode = nyp[column].mode().tolist()  # Convert mode to a list\n",
        "    std_dev = nyp[column].std()\n",
        "    min_value = nyp[column].min()\n",
        "    max_value = nyp[column].max()\n",
        "\n",
        "    # Calculate frequency counts distribution\n",
        "    frequency_distribution = nyp[column].value_counts().reset_index()\n",
        "    frequency_distribution.columns = [column, \"Frequency\"]\n",
        "\n",
        "    analysis_results[column] = {\n",
        "        \"Mean\": mean,\n",
        "        \"Median\": median,\n",
        "        \"Mode\": mode,\n",
        "        \"Standard Deviation\": std_dev,\n",
        "        \"Min Value\": min_value,\n",
        "        \"Max Value\": max_value,\n",
        "        \"Frequency Distribution\": frequency_distribution\n",
        "    }\n",
        "\n",
        "# Display the analysis results\n",
        "for column, results in analysis_results.items():\n",
        "    print(f\"Analysis for column: {column}\")\n",
        "    print(results)\n",
        "    print(\"\\n\")\n"
      ],
      "metadata": {
        "id": "DQw3u9eSVM3r"
      },
      "execution_count": null,
      "outputs": []
    },
    {
      "cell_type": "code",
      "source": [
        "nyp_mean = nyp['discountedcashprice'].mean()\n",
        "nyp_median = nyp['discountedcashprice'].median()\n",
        "nyp_mode = nyp['discountedcashprice'].mode().values[0]\n",
        "\n",
        "\n",
        "nyp_range = nyp['discountedcashprice'].max() - nyp['discountedcashprice'].min()\n",
        "nyp_var = nyp['discountedcashprice'].var()\n",
        "nyp_std= nyp['discountedcashprice'].std()\n",
        "nyp_iqr = nyp['discountedcashprice'].quantile(0.75) - nyp['discountedcashprice'].quantile(0.25)\n",
        "\n",
        "\n",
        "print(\"Measures of Central Tendency:\")\n",
        "print(f\"Mean: {nyp_mean}\")\n",
        "print(f\"Median: {nyp_median}\")\n",
        "print(f\"Mode: {nyp_mode}\")\n",
        "print(\"\\nMeasures of Spread:\")\n",
        "print(f\"Range: {nyp_range}\")\n",
        "print(f\"Variance: {nyp_var}\")\n",
        "print(f\"Standard Deviation: {nyp_std}\")\n",
        "print(f\"IQR (Interquartile Range): {nyp_iqr}\")"
      ],
      "metadata": {
        "id": "hCn3MUz0VkMc"
      },
      "execution_count": null,
      "outputs": []
    },
    {
      "cell_type": "code",
      "source": [
        "print (nyp['codecptdrg'].value_counts())\n",
        "print (nyp['description'].value_counts())\n",
        "print (nyp['revcode'].value_counts())\n",
        "print (nyp['inpatientoutpatient'].value_counts())"
      ],
      "metadata": {
        "id": "rhWzMUCCWT66"
      },
      "execution_count": null,
      "outputs": []
    },
    {
      "cell_type": "markdown",
      "source": [
        "## Data Distribution"
      ],
      "metadata": {
        "id": "T3d05XSFW6BX"
      }
    },
    {
      "cell_type": "code",
      "source": [
        "plt.figure(figsize=(9,9))\n",
        "plt.hist(nyp['grosscharges'], bins=15, color='green', edgecolor='black')\n",
        "plt.title('The Frequency of NewYork-Presbyterian Hospital Services Gross Charge')\n",
        "plt.xlabel('Gross Charge')\n",
        "plt.ylabel('Frequency')\n",
        "plt.grid(True)\n",
        "plt.show()"
      ],
      "metadata": {
        "id": "l3QY8KJYW_fR"
      },
      "execution_count": null,
      "outputs": []
    },
    {
      "cell_type": "code",
      "source": [
        "plt.figure(figsize=(9,9))\n",
        "plt.hist(nyp['discountedcashprice'], bins=15, color='pink', edgecolor='black')\n",
        "plt.title('The Frequency of NewYork-Presbyterian Hospital Services Discounted Cash Price')\n",
        "plt.xlabel('Discounted Cash Price')\n",
        "plt.ylabel('Frequency')\n",
        "plt.grid(True)\n",
        "plt.show()"
      ],
      "metadata": {
        "id": "-sRzV6McWuMa"
      },
      "execution_count": null,
      "outputs": []
    },
    {
      "cell_type": "code",
      "source": [],
      "metadata": {
        "id": "l_xJsVFqXFA_"
      },
      "execution_count": null,
      "outputs": []
    },
    {
      "cell_type": "markdown",
      "source": [
        "#  SQLite Database Operations"
      ],
      "metadata": {
        "id": "eCem1prWX2Av"
      }
    },
    {
      "cell_type": "markdown",
      "source": [
        "## Manual Table Creation\n"
      ],
      "metadata": {
        "id": "Ki1u0abwZDRF"
      }
    },
    {
      "cell_type": "code",
      "source": [
        "import sqlite3\n",
        "\n",
        "# Connect to the SQLite database and create database\n",
        "conn = sqlite3.connect('health.db')\n",
        "\n",
        "cursor = conn.cursor()\n",
        "\n",
        "    # Create the 'NewYork-Presbyterian' table if it doesn't exist\n",
        "cursor.execute('''\n",
        "        CREATE TABLE IF NOT EXISTS nyp\n",
        "        (\n",
        "            [codecptdrg] INTEGER PRIMARY KEY,\n",
        "            [description] TEXT,\n",
        "            [revcode] INTEGER,\n",
        "            [inpatientoutpatient] TEXT,\n",
        "            [grosscharges] REAL,\n",
        "            [discountedcashprice] REAL\n",
        "        )\n",
        "    ''')\n",
        "\n",
        "data_to_insert = [\n",
        "        (1, 'Consultation', 123, 'Inpatient', 1000.50, 800.25),\n",
        "        (2, 'Surgery', 456, 'Outpatient', 2500.75, 2000.60),\n",
        "        (3, 'MRI Scan', 789, 'Inpatient', 150.20, 120.15)\n",
        "    ]\n",
        "\n",
        "    # Insert data into the 'NewYork-Presbyterian' table\n",
        "    cursor.executemany('''\n",
        "        INSERT INTO nyp\n",
        "        VALUES (?, ?, ?, ?, ?, ?)\n",
        "    ''', data_to_insert)\n",
        "\n",
        "    # Commit the changes\n",
        "    conn.commit()\n",
        "\n",
        "    # Fetch and print the inserted data\n",
        "    cursor.execute('SELECT * FROM nyp')\n",
        "    tables = cursor.fetchall()\n",
        "\n",
        "    for value in tables:\n",
        "        print(value)\n",
        "\n",
        "except sqlite3.Error as e:\n",
        "    print(\"SQLite error:\", e)\n",
        "finally:\n",
        "    conn.close()\n"
      ],
      "metadata": {
        "colab": {
          "base_uri": "https://localhost:8080/",
          "height": 141
        },
        "id": "JtME4FlQX6os",
        "outputId": "f5449e29-8ad4-4002-ca1d-49e1835f21eb"
      },
      "execution_count": 76,
      "outputs": [
        {
          "output_type": "error",
          "ename": "IndentationError",
          "evalue": "ignored",
          "traceback": [
            "\u001b[0;36m  File \u001b[0;32m\"<ipython-input-76-12dc40339404>\"\u001b[0;36m, line \u001b[0;32m28\u001b[0m\n\u001b[0;31m    cursor.executemany('''\u001b[0m\n\u001b[0m    ^\u001b[0m\n\u001b[0;31mIndentationError\u001b[0m\u001b[0;31m:\u001b[0m unexpected indent\n"
          ]
        }
      ]
    },
    {
      "cell_type": "code",
      "source": [
        "import sqlite3\n",
        "\n",
        "    # Connect to the SQLite database and create database\n",
        "conn = sqlite3.connect('health.db')\n",
        "cursor = conn.cursor()\n",
        "\n",
        "    # Create the 'NewYork-Presbyterian' table if it doesn't exist\n",
        "cursor.execute('''\n",
        "        CREATE TABLE IF NOT EXISTS nyp\n",
        "        (\n",
        "            [codecptdrg] INTEGER PRIMARY KEY,\n",
        "            [description] TEXT,\n",
        "            [revcode] INTEGER,\n",
        "            [inpatientoutpatient] TEXT,\n",
        "            [grosscharges] REAL,\n",
        "            [discountedcashprice] REAL\n",
        "        )\n",
        "    ''')\n",
        "\n",
        "data_to_insert = [\n",
        "        (1, 'Consultation', 123, 'Inpatient', 1000.50, 800.25),\n",
        "        (2, 'Surgery', 456, 'Outpatient', 2500.75, 2000.60),\n",
        "        (3, 'MRI Scan', 789, 'Inpatient', 150.20, 120.15)\n",
        "    ]\n",
        "\n",
        "    # Insert data into the 'nyp' table\n",
        "cursor.executemany('''\n",
        "        INSERT INTO nyp\n",
        "        VALUES (?, ?, ?, ?, ?, ?)\n",
        "    ''', data_to_insert)\n",
        "\n",
        "    # Commit the changes\n",
        "conn.commit()\n",
        "\n",
        "cursor.execute('''\n",
        "    SELECT name\n",
        "    FROM sqlite_master\n",
        "    WHERE type= 'table'\n",
        "''')\n",
        "\n",
        "tables = cursor.fetchall()\n",
        "\n",
        "for value in tables:\n",
        "    print(value)\n",
        "\n",
        "\n",
        "\n"
      ],
      "metadata": {
        "id": "63RPVYucczmg"
      },
      "execution_count": null,
      "outputs": []
    },
    {
      "cell_type": "code",
      "source": [],
      "metadata": {
        "id": "PRmJA6hIc0ik"
      },
      "execution_count": null,
      "outputs": []
    }
  ]
}